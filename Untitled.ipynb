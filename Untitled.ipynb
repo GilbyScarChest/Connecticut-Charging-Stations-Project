{
 "cells": [
  {
   "cell_type": "code",
   "execution_count": 1,
   "metadata": {},
   "outputs": [],
   "source": [
    "import sqlalchemy\n",
    "from sqlalchemy.ext.automap import automap_base\n",
    "from sqlalchemy.orm import Session\n",
    "from sqlalchemy import create_engine\n",
    "from sqlalchemy import func\n",
    "from sqlalchemy import Column, Integer, String, Float\n",
    "\n",
    "from flask import (\n",
    "    Flask,\n",
    "    render_template,\n",
    "    jsonify,\n",
    "    request,\n",
    "    redirect)\n",
    "\n",
    "from flask_sqlalchemy import SQLAlchemy\n",
    "import csv\n",
    "import pandas as pd"
   ]
  },
  {
   "cell_type": "code",
   "execution_count": 2,
   "metadata": {},
   "outputs": [
    {
     "name": "stdout",
     "output_type": "stream",
     "text": [
      "<class 'sqlalchemy.ext.automap.Base'>\n"
     ]
    }
   ],
   "source": [
    "#################################################\n",
    "# Database Setup\n",
    "#################################################\n",
    "# Create an engine for the data.sqlite database\n",
    "engine = create_engine(\"sqlite:///db/data.sqlite\", echo=False)\n",
    "\n",
    "# reflect an existing database into a new model\n",
    "Base = automap_base()\n",
    "print(Base)\n",
    "# reflect the tables\n",
    "Base.prepare(engine, reflect=True)\n",
    "\n",
    "# This is where we create our tables in the database\n",
    "Base.metadata.create_all(engine)\n",
    "\n",
    "# Save reference to the table\n",
    "#stations = Base.classes.stations\n",
    "\n",
    "# Create our session (link) from Python to the DB\n",
    "session = Session(engine)"
   ]
  },
  {
   "cell_type": "code",
   "execution_count": 3,
   "metadata": {},
   "outputs": [
    {
     "name": "stderr",
     "output_type": "stream",
     "text": [
      "C:\\Users\\tdgso\\Anaconda3\\lib\\site-packages\\flask_sqlalchemy\\__init__.py:814: UserWarning: Neither SQLALCHEMY_DATABASE_URI nor SQLALCHEMY_BINDS is set. Defaulting SQLALCHEMY_DATABASE_URI to \"sqlite:///:memory:\".\n",
      "  'Neither SQLALCHEMY_DATABASE_URI nor SQLALCHEMY_BINDS is set. '\n",
      "C:\\Users\\tdgso\\Anaconda3\\lib\\site-packages\\flask_sqlalchemy\\__init__.py:835: FSADeprecationWarning: SQLALCHEMY_TRACK_MODIFICATIONS adds significant overhead and will be disabled by default in the future.  Set it to True or False to suppress this warning.\n",
      "  'SQLALCHEMY_TRACK_MODIFICATIONS adds significant overhead and '\n"
     ]
    }
   ],
   "source": [
    "#################################################\n",
    "# Flask Setup\n",
    "#################################################\n",
    "app = Flask(__name__)\n",
    "\n",
    "#app.config['SQLALCHEMY_DATABASE_URI'] = \"sqlite:///db/data.sqlite\"\n",
    "\n",
    "db = SQLAlchemy(app)"
   ]
  },
  {
   "cell_type": "code",
   "execution_count": 5,
   "metadata": {},
   "outputs": [],
   "source": [
    "\n",
    "#################################################\n",
    "# Class Setup\n",
    "#################################################\n",
    "class Station():\n",
    "    __tablename__ = 'stations'\n",
    "\n",
    "    id = db.Column(db.Integer, primary_key=True)\n",
    "    name = db.Column(db.String(100))\n",
    "    address = db.Column(db.String(100))\n",
    "    hours = db.Column(db.String(100))\n",
    "    level = db.Column(db.String(10))\n",
    "    region = db.Column(db.Float)\n",
    "    county = db.Column(db.Integer)\n",
    "    zipcode = db.Column(db.Integer)\n",
    "    town_index = db.Column(db.Float)\n",
    "    coordinates = db.Column(db.String(50))\n",
    "\n",
    "    def __init__(self, name, address, hours, level, region, county, zipcode, town_index, coordinates):\n",
    "        self.name = name\n",
    "        self.address = address\n",
    "        self.hours = hours\n",
    "        self.level = level\n",
    "        self.region = region\n",
    "        self.county = county\n",
    "        self.zipcode = zipcode\n",
    "        self.town_index = town_index\n",
    "        self.coordinates = coordinates"
   ]
  },
  {
   "cell_type": "code",
   "execution_count": 6,
   "metadata": {},
   "outputs": [],
   "source": [
    "#################################################\n",
    "# Load data from CSV to SQLalchemy db using Pandas\n",
    "#################################################\n",
    "file_name = 'Resources/Charging_Stations_Clean_2.csv'\n",
    "df = pd.read_csv(file_name)\n",
    "df.to_sql(con=engine, index_label='id', name=Station.__tablename__, if_exists='replace')"
   ]
  },
  {
   "cell_type": "code",
   "execution_count": 16,
   "metadata": {},
   "outputs": [],
   "source": [
    "test = engine.execute('SELECT * FROM stations').fetchall()\n"
   ]
  },
  {
   "cell_type": "code",
   "execution_count": 21,
   "metadata": {},
   "outputs": [
    {
     "data": {
      "text/plain": [
       "(0, 0, 'Connecticut Science Center', '250 Columbus Blvd', 'Daily: 6Am-3AM', '2', 1.0, 1041, 82, 64.0, '(41.764599, -72.669526)')"
      ]
     },
     "execution_count": 21,
     "metadata": {},
     "output_type": "execute_result"
    }
   ],
   "source": [
    "test[0]"
   ]
  },
  {
   "cell_type": "code",
   "execution_count": 25,
   "metadata": {},
   "outputs": [],
   "source": [
    "coordinates = (test[0][\"Coordinates\"])"
   ]
  },
  {
   "cell_type": "code",
   "execution_count": 26,
   "metadata": {},
   "outputs": [],
   "source": [
    "lon_cor,lat_cor = coordinates.split(\",\")"
   ]
  },
  {
   "cell_type": "code",
   "execution_count": 30,
   "metadata": {},
   "outputs": [],
   "source": [
    "lon_cor = lon_cor[1:]"
   ]
  },
  {
   "cell_type": "code",
   "execution_count": 33,
   "metadata": {},
   "outputs": [
    {
     "data": {
      "text/plain": [
       "41.764599"
      ]
     },
     "execution_count": 33,
     "metadata": {},
     "output_type": "execute_result"
    }
   ],
   "source": [
    "float(lon_cor)"
   ]
  },
  {
   "cell_type": "code",
   "execution_count": 34,
   "metadata": {},
   "outputs": [],
   "source": [
    "lat_cor = lat_cor[:-1]"
   ]
  },
  {
   "cell_type": "code",
   "execution_count": 36,
   "metadata": {},
   "outputs": [
    {
     "data": {
      "text/plain": [
       "-72.669526"
      ]
     },
     "execution_count": 36,
     "metadata": {},
     "output_type": "execute_result"
    }
   ],
   "source": [
    "float(lat_cor)"
   ]
  },
  {
   "cell_type": "code",
   "execution_count": 51,
   "metadata": {},
   "outputs": [
    {
     "ename": "ValueError",
     "evalue": "too many values to unpack (expected 2)",
     "output_type": "error",
     "traceback": [
      "\u001b[1;31m---------------------------------------------------------------------------\u001b[0m",
      "\u001b[1;31mValueError\u001b[0m                                Traceback (most recent call last)",
      "\u001b[1;32m<ipython-input-51-adc72253e01a>\u001b[0m in \u001b[0;36m<module>\u001b[1;34m\u001b[0m\n\u001b[0;32m      1\u001b[0m \u001b[0mcoordinates\u001b[0m \u001b[1;33m=\u001b[0m \u001b[1;33m[\u001b[0m\u001b[0mresult\u001b[0m\u001b[1;33m[\u001b[0m\u001b[1;34m'Coordinates'\u001b[0m\u001b[1;33m]\u001b[0m \u001b[1;32mfor\u001b[0m \u001b[0mresult\u001b[0m \u001b[1;32min\u001b[0m \u001b[0mtest\u001b[0m\u001b[1;33m]\u001b[0m\u001b[1;33m\u001b[0m\u001b[1;33m\u001b[0m\u001b[0m\n\u001b[1;32m----> 2\u001b[1;33m \u001b[0mlon\u001b[0m\u001b[1;33m,\u001b[0m \u001b[0mlat\u001b[0m \u001b[1;33m=\u001b[0m \u001b[1;33m[\u001b[0m\u001b[0mi\u001b[0m\u001b[1;33m.\u001b[0m\u001b[0msplit\u001b[0m\u001b[1;33m(\u001b[0m\u001b[1;34m\",\"\u001b[0m\u001b[1;33m)\u001b[0m \u001b[1;32mfor\u001b[0m \u001b[0mi\u001b[0m \u001b[1;32min\u001b[0m \u001b[0mcoordinates\u001b[0m\u001b[1;33m]\u001b[0m\u001b[1;33m\u001b[0m\u001b[1;33m\u001b[0m\u001b[0m\n\u001b[0m\u001b[0;32m      3\u001b[0m \u001b[1;31m# lon = float(lon[1:])\u001b[0m\u001b[1;33m\u001b[0m\u001b[1;33m\u001b[0m\u001b[1;33m\u001b[0m\u001b[0m\n\u001b[0;32m      4\u001b[0m \u001b[1;31m# lat = float(lat[:-1])\u001b[0m\u001b[1;33m\u001b[0m\u001b[1;33m\u001b[0m\u001b[1;33m\u001b[0m\u001b[0m\n",
      "\u001b[1;31mValueError\u001b[0m: too many values to unpack (expected 2)"
     ]
    }
   ],
   "source": [
    "coordinates = [result['Coordinates'] for result in test]\n",
    "lon, lat = [i.split(\",\") for i in coordinates]\n",
    "# lon = float(lon[1:])\n",
    "# lat = float(lat[:-1])\n"
   ]
  },
  {
   "cell_type": "code",
   "execution_count": 47,
   "metadata": {},
   "outputs": [
    {
     "data": {
      "text/plain": [
       "str"
      ]
     },
     "execution_count": 47,
     "metadata": {},
     "output_type": "execute_result"
    }
   ],
   "source": [
    "type(coordinates[0])"
   ]
  },
  {
   "cell_type": "code",
   "execution_count": 50,
   "metadata": {},
   "outputs": [
    {
     "name": "stdout",
     "output_type": "stream",
     "text": [
      "(41.764599, -72.669526)\n",
      "(41.102614, -73.450294)\n",
      "(41.2225623, -73.0546839)\n",
      "(41.909669, -73.042491)\n",
      "(41.795808, -72.55138)\n",
      "(41.0410423, -73.5396723)\n",
      "(41.3058626, -72.9275359)\n",
      "(41.370439, -73.414611)\n",
      "(41.305202, -72.934014)\n",
      "(41.122741, -73.315848)\n",
      "(41.177081, -73.191365)\n",
      "(41.041098, -73.672417)\n",
      "(41.28808, -72.417843)\n",
      "(41.6717114, -72.8670213)\n",
      "(41.20277023, -73.11752319)\n",
      "(41.198467, -73.131808)\n",
      "(41.9979545, -72.5742057)\n",
      "(41.389547, -73.467467)\n",
      "(41.2777553, -72.8716481)\n",
      "(41.399095, -73.44344)\n",
      "(41.711942, -72.608505)\n",
      "(41.771441, -72.967039)\n",
      "(41.800922, -72.241321)\n",
      "(41.666233, -72.781161)\n",
      "(41.5785572, -73.41116)\n",
      "(41.783595, -72.748049)\n",
      "(41.914329, -71.9105762)\n",
      "(41.491597, -72.091456)\n",
      "(41.378259, -73.474835)\n",
      "(41.187855, -73.250024)\n",
      "(41.53697, -72.805988)\n",
      "(41.6659341, -72.8580302)\n",
      "(41.043283, -73.573851)\n",
      "(41.745582, -72.689438)\n",
      "(41.080085, -73.461261)\n",
      "(41.983904, -72.489406)\n",
      "(41.0540276, -73.5407706)\n",
      "(41.192668, -73.431569)\n",
      "(41.6643566, -72.7788286)\n",
      "(41.303605, -72.929722)\n",
      "(41.280284, -72.595184)\n",
      "(41.264627, -73.004808)\n",
      "(41.3356849, -72.0729966)\n",
      "(41.30733, -72.766105)\n",
      "(41.768396, -72.195701)\n",
      "(41.7283586, -72.1878358)\n",
      "(41.3333254, -72.9502064)\n",
      "(41.445472, -73.065616)\n",
      "(41.7667112, -72.674007)\n",
      "(41.725002, -72.6724544)\n",
      "(41.8298475, -72.7373929)\n",
      "(41.3649722, -72.0251953)\n",
      "(41.30501, -72.9227)\n",
      "(41.7648798, -72.52027)\n",
      "(41.818657, -72.868197)\n",
      "(41.24718, -73.009992)\n",
      "(41.078763, -73.465493)\n",
      "(41.13921356, -73.31217957)\n",
      "(41.281421, -73.498417)\n",
      "(41.7686629, -72.6813764)\n",
      "(41.3874871, -72.1591426)\n",
      "(41.38704, -73.4312)\n",
      "(41.11803055, -73.41493225)\n",
      "(41.4880563, -73.2248163)\n",
      "(41.78392, -72.6047)\n",
      "(41.4699817, -71.9523342)\n",
      "(41.7608228, -72.7407631)\n",
      "(41.7669, -72.6762)\n",
      "(41.568466, -73.099109)\n",
      "(41.915577, -71.908313)\n",
      "(41.2020685, -73.1897466)\n",
      "(41.8191958, -73.0875574)\n",
      "(41.704415, -72.593366)\n",
      "(41.0520087, -73.5407297)\n",
      "(41.527565, -72.064059)\n",
      "(41.649365, -72.770648)\n",
      "(41.3566648, -72.0945957)\n",
      "(41.766, -72.6716)\n",
      "(41.57525, -73.1005139)\n",
      "(41.71292, -72.217506)\n",
      "(41.538777, -72.782625)\n",
      "(41.05184, -73.5344)\n",
      "(41.79918, -71.9068)\n",
      "(41.354043, -72.211435)\n",
      "(41.996918, -72.5823813)\n",
      "(41.126616, -73.390279)\n",
      "(41.7656639, -72.6734371)\n",
      "(41.696446, -72.721392)\n",
      "(41.390465, -71.988657)\n",
      "(41.631028, -72.742309)\n",
      "(41.139781, -73.358518)\n",
      "(41.858024, -72.600045)\n",
      "(41.574728, -72.502089)\n",
      "(41.749991, -72.639357)\n",
      "(41.25180054, -73.01777649)\n",
      "(41.1247387, -73.2665157)\n",
      "(41.330578, -73.472216)\n",
      "(41.762829, -72.670264)\n",
      "(41.788489, -72.229291)\n",
      "(41.781963, -72.309203)\n",
      "(41.677956, -72.842337)\n",
      "(41.0553525, -73.5464906)\n",
      "(41.483774, -72.807124)\n",
      "(41.41681751, -73.40630808)\n",
      "(41.142152, -73.263962)\n",
      "(41.3713958, -72.0565033)\n",
      "(41.297509, -72.926602)\n",
      "(41.1450945, -73.3599921)\n",
      "(41.068255, -73.504797)\n",
      "(41.7913051, -72.6566434)\n",
      "(41.6992932, -72.8956037)\n",
      "(41.017798, -73.623616)\n",
      "(41.283282, -72.35059)\n",
      "(41.1422413, -73.2640247)\n",
      "(41.8050529, -72.2432295)\n",
      "(41.813743, -72.507773)\n",
      "(41.282357, -73.493122)\n",
      "(41.803336, -73.120793)\n",
      "(41.043886, -73.532272)\n",
      "(41.1464, -73.4924)\n",
      "(41.727419, -73.47251)\n",
      "(41.77507, -72.6994)\n",
      "(41.291874, -72.790192)\n",
      "(41.251966, -73.297822)\n",
      "(41.5903224, -72.6757242)\n",
      "(41.69034, -72.6559)\n",
      "(41.2096984, -73.083616)\n",
      "(41.501415, -72.0951712)\n",
      "(41.354106, -73.014774)\n",
      "(41.4733521, -71.9600027)\n",
      "(41.763449, -72.678557)\n",
      "(41.859648, -71.998608)\n",
      "(41.3077571, -72.9685927)\n",
      "(41.693285, -72.768397)\n",
      "(41.360892, -72.870997)\n",
      "(41.144988, -73.428669)\n",
      "(41.6495951, -72.7252489)\n",
      "(41.721958, -73.473401)\n",
      "(41.953668, -72.303231)\n",
      "(41.769701, -72.657481)\n",
      "(41.2335, -73.0434)\n",
      "(41.738591, -72.217383)\n",
      "(41.14586, -73.4991)\n",
      "(41.362333, -72.117344)\n",
      "(41.7585089, -72.7445332)\n",
      "(41.282707, -72.351844)\n",
      "(41.1406181, -73.2571997)\n",
      "(41.2829747, -72.6806692)\n",
      "(41.38010788, -73.47898865)\n",
      "(41.67693, -72.841182)\n",
      "(41.538678, -72.802371)\n",
      "(41.157196, -73.241898)\n",
      "(41.7634529, -72.6854594)\n",
      "(41.820356, -72.869086)\n",
      "(41.06864929, -73.54598236)\n",
      "(41.811817, -72.261825)\n",
      "(41.5374181, -72.8935933)\n",
      "(41.6972, -72.7214)\n",
      "(41.463278, -72.442533)\n",
      "(41.56426, -72.8831)\n",
      "(41.1803348, -73.1927599)\n",
      "(41.78421, -72.6577)\n",
      "(41.0582867, -73.5439057)\n",
      "(41.3091825, -72.3819136)\n",
      "(41.1768546, -73.2306361)\n",
      "(41.550883, -72.662214)\n",
      "(41.7660072, -72.4902715)\n",
      "(41.119379, -73.369318)\n",
      "(41.373266, -71.953159)\n",
      "(42.0000268, -72.5697849)\n",
      "(41.072882, -73.4764687)\n",
      "(41.267627, -73.44164)\n",
      "(41.951638, -72.6656968)\n",
      "(41.040555, -73.673445)\n",
      "(41.312201, -72.921453)\n",
      "(41.0456376, -73.5428902)\n",
      "(41.099673, -73.416602)\n",
      "(41.399422, -73.445563)\n",
      "(41.7669796, -72.6749203)\n",
      "(41.29803, -72.926668)\n",
      "(41.016928, -73.6476069)\n",
      "(41.7186625, -72.655754)\n",
      "(41.80577, -71.882323)\n",
      "(41.557556, -72.1136)\n",
      "(41.6724723, -72.8582306)\n",
      "(41.765921, -72.645193)\n",
      "(41.0569153, -73.5371102)\n",
      "(41.310116, -72.38265)\n",
      "(41.3865745, -72.4359069)\n",
      "(41.7075381, -72.6085729)\n",
      "(41.467401, -72.817451)\n",
      "(41.805152, -72.253601)\n",
      "(41.396042, -73.451059)\n",
      "(41.26043, -73.435421)\n",
      "(41.693068, -72.767971)\n",
      "(41.376431, -73.417444)\n",
      "(41.654779, -72.729349)\n",
      "(41.101888, -73.405875)\n",
      "(41.658572, -72.366742)\n",
      "(41.7257831, -72.7573662)\n",
      "(41.537218, -72.796702)\n",
      "(41.3630236, -72.8878557)\n",
      "(41.16725, -73.2336)\n",
      "(41.810822, -72.922571)\n",
      "(41.29952, -73.1063)\n",
      "(41.821883, -72.873778)\n",
      "(41.76378, -72.6697)\n",
      "(41.289671, -72.695214)\n",
      "(41.0522174, -73.5423234)\n",
      "(41.7990473, -72.2446293)\n",
      "(41.666879, -72.78037)\n",
      "(41.32696, -72.959996)\n",
      "(41.36007495, -72.63656297)\n",
      "(41.2231941, -73.0770373)\n"
     ]
    }
   ],
   "source": [
    "for i in coordinates:\n",
    "    i.split(\",\")\n",
    "    print(i)"
   ]
  },
  {
   "cell_type": "code",
   "execution_count": null,
   "metadata": {},
   "outputs": [],
   "source": []
  }
 ],
 "metadata": {
  "kernelspec": {
   "display_name": "Python 3",
   "language": "python",
   "name": "python3"
  },
  "language_info": {
   "codemirror_mode": {
    "name": "ipython",
    "version": 3
   },
   "file_extension": ".py",
   "mimetype": "text/x-python",
   "name": "python",
   "nbconvert_exporter": "python",
   "pygments_lexer": "ipython3",
   "version": "3.7.3"
  }
 },
 "nbformat": 4,
 "nbformat_minor": 2
}
